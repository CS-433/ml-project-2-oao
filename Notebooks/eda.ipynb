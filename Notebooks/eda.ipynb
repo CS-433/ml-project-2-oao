{
 "cells": [
  {
   "cell_type": "code",
   "execution_count": null,
   "metadata": {},
   "outputs": [],
   "source": [
    "import pandas as pd\n",
    "import numpy as np"
   ]
  },
  {
   "cell_type": "code",
   "execution_count": null,
   "metadata": {},
   "outputs": [],
   "source": [
    "# load txt file in 'Data/twitter-datasets'\n",
    "with open('Data/twitter-datasets/train_pos_full.txt', 'r') as f:\n",
    "    train_pos = f.readlines()\n",
    "with open('Data/twitter-datasets/train_neg_full.txt', 'r') as f:\n",
    "    train_neg = f.readlines()\n",
    "\n",
    "# merge two lists into dataframe with label\n",
    "train_pos = pd.DataFrame(train_pos, columns=['tweet'])\n",
    "train_pos['label'] = 1\n",
    "train_neg = pd.DataFrame(train_neg, columns=['tweet'])\n",
    "train_neg['label'] = 0\n",
    "train = pd.concat([train_pos, train_neg], ignore_index=True)"
   ]
  },
  {
   "cell_type": "code",
   "execution_count": null,
   "metadata": {},
   "outputs": [],
   "source": [
    "# get the length of the longest tweet in terms of tokens\n",
    "train['tweet'] = train['tweet'].apply(lambda x: x.split())\n",
    "train['length'] = train['tweet'].apply(lambda x: len(x))\n",
    "train['length'].max()"
   ]
  },
  {
   "cell_type": "code",
   "execution_count": null,
   "metadata": {},
   "outputs": [],
   "source": [
    "from nltk.parse import ViterbiParser\n",
    "import nltk"
   ]
  },
  {
   "cell_type": "code",
   "execution_count": null,
   "metadata": {},
   "outputs": [],
   "source": [
    "nltk.download('treebank')"
   ]
  },
  {
   "cell_type": "code",
   "execution_count": null,
   "metadata": {},
   "outputs": [],
   "source": [
    "# load the nltk english corpus\n",
    "from nltk.corpus import treebank"
   ]
  },
  {
   "cell_type": "code",
   "execution_count": null,
   "metadata": {},
   "outputs": [],
   "source": []
  }
 ],
 "metadata": {
  "kernelspec": {
   "display_name": "tensorflow-macos",
   "language": "python",
   "name": "python3"
  },
  "language_info": {
   "codemirror_mode": {
    "name": "ipython",
    "version": 3
   },
   "file_extension": ".py",
   "mimetype": "text/x-python",
   "name": "python",
   "nbconvert_exporter": "python",
   "pygments_lexer": "ipython3",
   "version": "3.10.13"
  }
 },
 "nbformat": 4,
 "nbformat_minor": 2
}
