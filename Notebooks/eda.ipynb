{
 "cells": [
  {
   "cell_type": "code",
   "execution_count": 1,
   "metadata": {},
   "outputs": [],
   "source": [
    "import pandas as pd\n",
    "import numpy as np"
   ]
  },
  {
   "cell_type": "code",
   "execution_count": 2,
   "metadata": {},
   "outputs": [],
   "source": [
    "# load txt file in 'Data/twitter-datasets'\n",
    "with open('../Data/twitter-datasets/train_pos_full.txt', 'r') as f:\n",
    "    train_pos = f.readlines()\n",
    "with open('../Data/twitter-datasets/train_neg_full.txt', 'r') as f:\n",
    "    train_neg = f.readlines()\n",
    "\n",
    "# merge two lists into dataframe with label\n",
    "train_pos = pd.DataFrame(train_pos, columns=['text'])\n",
    "train_pos['label'] = 1\n",
    "train_neg = pd.DataFrame(train_neg, columns=['text'])\n",
    "train_neg['label'] = 0\n",
    "train = pd.concat([train_pos, train_neg], ignore_index=True)"
   ]
  },
  {
   "cell_type": "code",
   "execution_count": 3,
   "metadata": {},
   "outputs": [
    {
     "name": "stderr",
     "output_type": "stream",
     "text": [
      "/opt/homebrew/Caskroom/miniconda/base/envs/tensorflow-macos/lib/python3.9/site-packages/tqdm/auto.py:21: TqdmWarning: IProgress not found. Please update jupyter and ipywidgets. See https://ipywidgets.readthedocs.io/en/stable/user_install.html\n",
      "  from .autonotebook import tqdm as notebook_tqdm\n",
      "[nltk_data] Downloading package wordnet to\n",
      "[nltk_data]     /Users/aliessonni/nltk_data...\n",
      "[nltk_data]   Package wordnet is already up-to-date!\n"
     ]
    }
   ],
   "source": [
    "# set the working directory one step above\n",
    "import os\n",
    "os.chdir('..')\n",
    "from TextProc.Preprocessor import Preprocessor\n",
    "from TextProc.preproc_configs import preproc_config_context"
   ]
  },
  {
   "cell_type": "code",
   "execution_count": 4,
   "metadata": {},
   "outputs": [],
   "source": [
    "# sample 1000 tweets from each class\n",
    "train_pos = train[train['label'] == 1].sample(1000)\n",
    "train_neg = train[train['label'] == 0].sample(1000)\n",
    "train = pd.concat([train_pos, train_neg], ignore_index=True)"
   ]
  },
  {
   "cell_type": "code",
   "execution_count": 5,
   "metadata": {},
   "outputs": [
    {
     "name": "stdout",
     "output_type": "stream",
     "text": [
      "replace_emoticons\n"
     ]
    },
    {
     "name": "stderr",
     "output_type": "stream",
     "text": [
      "100%|██████████| 2000/2000 [00:00<00:00, 71981.12it/s]\n"
     ]
    },
    {
     "name": "stdout",
     "output_type": "stream",
     "text": [
      "make_two_consecutive\n"
     ]
    },
    {
     "name": "stderr",
     "output_type": "stream",
     "text": [
      "100%|██████████| 2000/2000 [00:00<00:00, 217699.32it/s]\n"
     ]
    },
    {
     "name": "stdout",
     "output_type": "stream",
     "text": [
      "replace_hashtag\n"
     ]
    },
    {
     "name": "stderr",
     "output_type": "stream",
     "text": [
      "100%|██████████| 2000/2000 [00:00<00:00, 165152.84it/s]\n"
     ]
    },
    {
     "name": "stdout",
     "output_type": "stream",
     "text": [
      "remove_punctuation\n"
     ]
    },
    {
     "name": "stderr",
     "output_type": "stream",
     "text": [
      "100%|██████████| 2000/2000 [00:00<00:00, 244944.32it/s]\n"
     ]
    },
    {
     "name": "stdout",
     "output_type": "stream",
     "text": [
      "string_to_list\n"
     ]
    },
    {
     "name": "stderr",
     "output_type": "stream",
     "text": [
      "100%|██████████| 2000/2000 [00:00<00:00, 1117884.86it/s]\n"
     ]
    },
    {
     "name": "stdout",
     "output_type": "stream",
     "text": [
      "correct_text\n"
     ]
    },
    {
     "name": "stderr",
     "output_type": "stream",
     "text": [
      "100%|██████████| 2000/2000 [02:57<00:00, 11.27it/s]\n"
     ]
    },
    {
     "name": "stdout",
     "output_type": "stream",
     "text": [
      "list_to_string\n"
     ]
    },
    {
     "name": "stderr",
     "output_type": "stream",
     "text": [
      "100%|██████████| 2000/2000 [00:00<00:00, 1478168.81it/s]\n"
     ]
    }
   ],
   "source": [
    "preprocessor = Preprocessor(preproc_config_context)\n",
    "train_preprocessed = preprocessor.preprocess(train)"
   ]
  },
  {
   "cell_type": "code",
   "execution_count": 7,
   "metadata": {},
   "outputs": [],
   "source": [
    "# add \\n to the end of each tweet\n",
    "train_preprocessed['text'] = train_preprocessed['text'].apply(lambda x: x + '\\n')"
   ]
  },
  {
   "cell_type": "code",
   "execution_count": 8,
   "metadata": {},
   "outputs": [],
   "source": [
    "# write the non-processed and processed data to txt files\n",
    "with open('Data/twitter-datasets/train_pos_partial.txt', 'w') as f:\n",
    "    f.writelines(train[train['label'] == 1]['text'].tolist())\n",
    "\n",
    "with open('Data/twitter-datasets/train_neg_partial.txt', 'w') as f:\n",
    "    f.writelines(train[train['label'] == 0]['text'].tolist())\n",
    "\n",
    "with open('Data/twitter-datasets/train_pos_partial_prep.txt', 'w') as f:\n",
    "    f.writelines(train_preprocessed[train_preprocessed['label'] == 1]['text'].tolist())\n",
    "\n",
    "with open('Data/twitter-datasets/train_neg_partial_prep.txt', 'w') as f:\n",
    "    f.writelines(train_preprocessed[train_preprocessed['label'] == 0]['text'].tolist())"
   ]
  },
  {
   "cell_type": "code",
   "execution_count": 9,
   "metadata": {},
   "outputs": [
    {
     "data": {
      "text/plain": [
       "190"
      ]
     },
     "execution_count": 9,
     "metadata": {},
     "output_type": "execute_result"
    }
   ],
   "source": [
    "# max length of tweets\n",
    "train_preprocessed['text'].apply(lambda x: len(x)).max()"
   ]
  },
  {
   "cell_type": "code",
   "execution_count": null,
   "metadata": {},
   "outputs": [],
   "source": []
  }
 ],
 "metadata": {
  "kernelspec": {
   "display_name": "tensorflow-macos",
   "language": "python",
   "name": "python3"
  },
  "language_info": {
   "codemirror_mode": {
    "name": "ipython",
    "version": 3
   },
   "file_extension": ".py",
   "mimetype": "text/x-python",
   "name": "python",
   "nbconvert_exporter": "python",
   "pygments_lexer": "ipython3",
   "version": "3.9.18"
  }
 },
 "nbformat": 4,
 "nbformat_minor": 2
}
