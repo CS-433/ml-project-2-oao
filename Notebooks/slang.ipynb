{
 "cells": [
  {
   "cell_type": "code",
   "execution_count": null,
   "metadata": {},
   "outputs": [],
   "source": [
    "from bs4 import BeautifulSoup\n",
    "import urllib3\n",
    "import json\n",
    "http=urllib3.PoolManager()\n",
    "Abbr_dict={}\n",
    "#Function to get the Slangs from https://www.noslang.com/dictionary/\n",
    "def getAbbr(alpha):\n",
    "    global Abbr_dict\n",
    "    r=http.request('GET','https://www.noslang.com/dictionary/'+alpha)\n",
    "    soup=BeautifulSoup(r.data,'html.parser')\n",
    "    for i in soup.findAll('div',{'class':'dictonary-word'}): \n",
    "        # find <abbr> tag and extract title attribute from it\n",
    "        # print(i)\n",
    "        word = i.find('abbr')['title']\n",
    "        abbr = i.find('a')['name']\n",
    "        print(abbr)\n",
    "        print(word)\n",
    "        Abbr_dict[abbr] = word\n",
    "linkDict=[]\n",
    "#Generating a-z\n",
    "for one in range(97,123):\n",
    "    linkDict.append(chr(one))\n",
    "#Creating Links for https://www.noslang.com/dictionary/a...https://www.noslang.com/dictionary/b....etc\n",
    "for i in linkDict:\n",
    "    getAbbr(i)\n",
    "# finally writing into a json file\n",
    "with open('ShortendText.json','w') as file:\n",
    "    jsonDict=json.dump(Abbr_dict,file)"
   ]
  },
  {
   "cell_type": "code",
   "execution_count": null,
   "metadata": {},
   "outputs": [],
   "source": [
    "len(Abbr_dict)"
   ]
  },
  {
   "cell_type": "code",
   "execution_count": null,
   "metadata": {},
   "outputs": [],
   "source": [
    "from nltk.corpus import stopwords"
   ]
  },
  {
   "cell_type": "code",
   "execution_count": null,
   "metadata": {},
   "outputs": [],
   "source": [
    "negation_words = [\n",
    "    \"not\", \"no\", \"never\", \"none\", \"nobody\", \"nothing\", \"neither\", \"nor\", \"nowhere\",\n",
    "    \"hardly\", \"scarcely\", \"barely\", \"rarely\", \"seldom\", \"little\", \"don't\", \"can't\",\n",
    "    \"won't\", \"isn't\", \"aren't\", \"couldn't\", \"wasn't\", \"weren't\", \"haven't\", \"hasn't\",\n",
    "    \"hadn't\", \"shouldn't\", \"wouldn't\", \"mustn't\", \"mightn't\"\n",
    "]"
   ]
  },
  {
   "cell_type": "code",
   "execution_count": null,
   "metadata": {},
   "outputs": [],
   "source": [
    "with open('ShortendText.json', 'r') as f:\n",
    "    slang_dict = json.load(f)"
   ]
  },
  {
   "cell_type": "code",
   "execution_count": null,
   "metadata": {},
   "outputs": [],
   "source": [
    "def slang_to_english(text: list) -> list:\n",
    "    \"\"\"\n",
    "    converts slang words to english\n",
    "    :param text: text to convert\n",
    "    :return: converted text\n",
    "    \"\"\"\n",
    "    # replace slang words with english\n",
    "    return [slang_dict[word] if word in slang_dict else word for word in text]"
   ]
  },
  {
   "cell_type": "code",
   "execution_count": null,
   "metadata": {},
   "outputs": [],
   "source": [
    "# test the function\n",
    "slang_to_english(['u', 'r', 'gr8'])"
   ]
  },
  {
   "cell_type": "code",
   "execution_count": null,
   "metadata": {},
   "outputs": [],
   "source": []
  }
 ],
 "metadata": {
  "kernelspec": {
   "display_name": "ml",
   "language": "python",
   "name": "python3"
  },
  "language_info": {
   "codemirror_mode": {
    "name": "ipython",
    "version": 3
   },
   "file_extension": ".py",
   "mimetype": "text/x-python",
   "name": "python",
   "nbconvert_exporter": "python",
   "pygments_lexer": "ipython3",
   "version": "3.10.13"
  }
 },
 "nbformat": 4,
 "nbformat_minor": 2
}
